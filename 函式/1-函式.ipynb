{
 "cells": [
  {
   "cell_type": "code",
   "execution_count": 1,
   "metadata": {},
   "outputs": [],
   "source": [
    "def print123():\n",
    "    print(123)"
   ]
  },
  {
   "cell_type": "code",
   "execution_count": 2,
   "metadata": {},
   "outputs": [
    {
     "name": "stdout",
     "output_type": "stream",
     "text": [
      "123\n"
     ]
    }
   ],
   "source": [
    "print123()"
   ]
  },
  {
   "cell_type": "code",
   "execution_count": 18,
   "metadata": {},
   "outputs": [
    {
     "name": "stdout",
     "output_type": "stream",
     "text": [
      "9\n",
      "9\n",
      "9\n",
      "9\n",
      "None\n"
     ]
    }
   ],
   "source": [
    "def add(x, y):\n",
    "    print(x+y)\n",
    "    return\n",
    "\n",
    "add(5, 4)\n",
    "add(x = 5, y = 4)\n",
    "add(y = 4, x = 5)\n",
    "#add(x = 5, 4)\n",
    "#add(4, x = 5)\n",
    "print(add(5, y = 4))"
   ]
  },
  {
   "cell_type": "code",
   "execution_count": 15,
   "metadata": {},
   "outputs": [
    {
     "name": "stdout",
     "output_type": "stream",
     "text": [
      "2\n"
     ]
    }
   ],
   "source": [
    "def minus(x, y):\n",
    "    return x - y\n",
    "\n",
    "a = minus(5, 3)\n",
    "print(a)"
   ]
  },
  {
   "cell_type": "code",
   "execution_count": 28,
   "metadata": {},
   "outputs": [
    {
     "name": "stdout",
     "output_type": "stream",
     "text": [
      "5.0\n"
     ]
    }
   ],
   "source": [
    "def d(x, y = 1):\n",
    "    return x / y\n",
    "\n",
    "print(d(5))"
   ]
  },
  {
   "cell_type": "code",
   "execution_count": 1,
   "metadata": {},
   "outputs": [
    {
     "data": {
      "text/plain": [
       "9"
      ]
     },
     "execution_count": 1,
     "metadata": {},
     "output_type": "execute_result"
    }
   ],
   "source": [
    "def Max(x):\n",
    "    return max(x)\n",
    "\n",
    "Max([1, 5, 2, 3, 4, 9, 7, 6])"
   ]
  },
  {
   "cell_type": "code",
   "execution_count": 31,
   "metadata": {},
   "outputs": [
    {
     "name": "stdout",
     "output_type": "stream",
     "text": [
      "1 2 3 4 5 6 7\n"
     ]
    }
   ],
   "source": [
    "print(1, 2, 3, 4, 5, 6, 7)"
   ]
  },
  {
   "cell_type": "code",
   "execution_count": 36,
   "metadata": {},
   "outputs": [
    {
     "name": "stdout",
     "output_type": "stream",
     "text": [
      "((1, 2, 3, 4, 5, 6, 7), 10)\n"
     ]
    }
   ],
   "source": [
    "def k(*x, a):\n",
    "    return x, a\n",
    "\n",
    "print(k(1, 2, 3, 4, 5, 6, 7, a = 10))"
   ]
  },
  {
   "cell_type": "code",
   "execution_count": 4,
   "metadata": {},
   "outputs": [
    {
     "name": "stdout",
     "output_type": "stream",
     "text": [
      "350\n",
      "5\n"
     ]
    }
   ],
   "source": [
    "num = 10\n",
    "x = 5\n",
    "def times(num, num2):\n",
    "    x = 7\n",
    "    return num * num2 * x\n",
    "\n",
    "print(times(5, 10))\n",
    "print(x)"
   ]
  },
  {
   "cell_type": "code",
   "execution_count": 5,
   "metadata": {},
   "outputs": [
    {
     "name": "stdout",
     "output_type": "stream",
     "text": [
      "350\n",
      "7\n"
     ]
    }
   ],
   "source": [
    "num = 10\n",
    "x = 5\n",
    "def times(num, num2):\n",
    "    global x #將全域變數引入函式\n",
    "    x = 7\n",
    "    return num * num2 * x\n",
    "\n",
    "print(times(5, 10))\n",
    "print(x)"
   ]
  }
 ],
 "metadata": {
  "kernelspec": {
   "display_name": "Python 3",
   "language": "python",
   "name": "python3"
  },
  "language_info": {
   "codemirror_mode": {
    "name": "ipython",
    "version": 3
   },
   "file_extension": ".py",
   "mimetype": "text/x-python",
   "name": "python",
   "nbconvert_exporter": "python",
   "pygments_lexer": "ipython3",
   "version": "3.12.4"
  }
 },
 "nbformat": 4,
 "nbformat_minor": 2
}
