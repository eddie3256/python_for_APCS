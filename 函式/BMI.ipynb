{
 "cells": [
  {
   "cell_type": "code",
   "execution_count": 5,
   "metadata": {},
   "outputs": [],
   "source": [
    "def DataToBMI(data):\n",
    "    h = float(data[0]) / 100\n",
    "    w = float(data[1])\n",
    "    BMI = w / h ** 2\n",
    "    return BMI"
   ]
  },
  {
   "cell_type": "code",
   "execution_count": 6,
   "metadata": {},
   "outputs": [
    {
     "name": "stdout",
     "output_type": "stream",
     "text": [
      "19.53 "
     ]
    }
   ],
   "source": [
    "n = int(input())\n",
    "datas = []\n",
    "for i in range(n):\n",
    "    datas.append(list(map(float, input().split())))\n",
    "\n",
    "BMIs = []\n",
    "for data in datas:\n",
    "    BMIs.append(DataToBMI(data))\n",
    "\n",
    "for BMI in BMIs:\n",
    "    print(f\"{BMI:.2f}\", end=\" \")"
   ]
  }
 ],
 "metadata": {
  "kernelspec": {
   "display_name": "Python 3",
   "language": "python",
   "name": "python3"
  },
  "language_info": {
   "codemirror_mode": {
    "name": "ipython",
    "version": 3
   },
   "file_extension": ".py",
   "mimetype": "text/x-python",
   "name": "python",
   "nbconvert_exporter": "python",
   "pygments_lexer": "ipython3",
   "version": "3.12.4"
  }
 },
 "nbformat": 4,
 "nbformat_minor": 2
}
