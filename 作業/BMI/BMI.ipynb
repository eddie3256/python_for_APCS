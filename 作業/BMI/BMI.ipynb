{
 "cells": [
  {
   "cell_type": "code",
   "execution_count": 1,
   "metadata": {},
   "outputs": [
    {
     "name": "stdout",
     "output_type": "stream",
     "text": [
      "您的BMI為19.53\n",
      "您的體重為正常\n"
     ]
    }
   ],
   "source": [
    "a=float(input(\"請輸入身高(cm):\"))\n",
    "b=float(input(\"請輸入體重(kg):\"))\n",
    "c=b/((a/100)**2)\n",
    "print(\"您的BMI為%.2f\"%c)\n",
    "if c<18.5:\n",
    "    print(\"您的體重為過輕\")\n",
    "elif c<24 and c>=18.5:\n",
    "    print(\"您的體重為正常\")\n",
    "elif c<27 and c>=24:\n",
    "    print(\"您的體重為過種\")\n",
    "elif c<30 and c>=27:\n",
    "    print(\"您的體重為輕度肥胖\")\n",
    "elif c<35 and c>=30:\n",
    "    print(\"您的體重為中度肥胖\")\n",
    "else:\n",
    "    print(\"您的體重為重度肥胖\")"
   ]
  }
 ],
 "metadata": {
  "kernelspec": {
   "display_name": "Python 3",
   "language": "python",
   "name": "python3"
  },
  "language_info": {
   "codemirror_mode": {
    "name": "ipython",
    "version": 3
   },
   "file_extension": ".py",
   "mimetype": "text/x-python",
   "name": "python",
   "nbconvert_exporter": "python",
   "pygments_lexer": "ipython3",
   "version": "3.12.4"
  }
 },
 "nbformat": 4,
 "nbformat_minor": 2
}
