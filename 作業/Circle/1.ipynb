{
 "cells": [
  {
   "cell_type": "code",
   "execution_count": 2,
   "metadata": {},
   "outputs": [
    {
     "name": "stdout",
     "output_type": "stream",
     "text": [
      "7.85\n",
      "39.25\n"
     ]
    }
   ],
   "source": [
    "class circle():\n",
    "    def __init__(self,abc,bcd):\n",
    "        self.a=abc\n",
    "        self.b=bcd\n",
    "    def perimeter(self):\n",
    "        return self.a*2*3.14*self.b/360\n",
    "    def area(self):\n",
    "        return self.a**2*3.14*self.b/360\n",
    "    \n",
    "A = circle(10, 45)\n",
    "print(A.perimeter())\n",
    "print(A.area())"
   ]
  },
  {
   "cell_type": "code",
   "execution_count": 30,
   "metadata": {},
   "outputs": [
    {
     "name": "stdout",
     "output_type": "stream",
     "text": [
      "7.8500000000000005\n",
      "39.25\n"
     ]
    }
   ],
   "source": [
    "class Circle:\n",
    "    def __init__(self,半徑,圓心角):\n",
    "        self.半徑=半徑\n",
    "        self.圓心角=圓心角\n",
    "    def perimeter(self):\n",
    "        return 2*self.半徑*self.圓心角/360*3.14\n",
    "\n",
    "    def area(self):\n",
    "        return 3.14*self.圓心角/360*self.半徑**2\n",
    "\n",
    "A = Circle(10, 45)\n",
    "print(A.perimeter())\n",
    "print(A.area())"
   ]
  },
  {
   "cell_type": "code",
   "execution_count": 29,
   "metadata": {},
   "outputs": [
    {
     "name": "stdout",
     "output_type": "stream",
     "text": [
      "27.85\n",
      "39.25\n"
     ]
    }
   ],
   "source": [
    "class Circle():\n",
    "    def __init__(self, r, sita):\n",
    "        self.r = r\n",
    "        self.sita = sita\n",
    "\n",
    "    def perimeter(self):\n",
    "        if self.sita < 360:\n",
    "            return self.r * 2 * 3.14 * (self.sita/360) + 2 * self.r\n",
    "        else:\n",
    "            return self.r * 2 * 3.14\n",
    "    \n",
    "    def area(self):\n",
    "        return self.r ** 2 * 3.14 * (self.sita/360)\n",
    "    \n",
    "A = Circle(10, 45)\n",
    "print(A.perimeter())\n",
    "print(A.area())\n"
   ]
  },
  {
   "cell_type": "code",
   "execution_count": 2,
   "metadata": {},
   "outputs": [
    {
     "name": "stdout",
     "output_type": "stream",
     "text": [
      "7.8500000000000005\n",
      "39.25\n"
     ]
    }
   ],
   "source": [
    "class circle():\n",
    "    def __init__(self, radius, angle):\n",
    "        self.r = radius\n",
    "        self.a = angle\n",
    "    def perimeter(self):\n",
    "        return print(2 * self.r * 3.14 * (self.a/360))\n",
    "    def area(self):\n",
    "        return print(self.r ** 2 * 3.14 * (self.a/360))\n",
    "A = circle(10, 45)\n",
    "A.perimeter()\n",
    "A.area()"
   ]
  }
 ],
 "metadata": {
  "kernelspec": {
   "display_name": "Python 3",
   "language": "python",
   "name": "python3"
  },
  "language_info": {
   "codemirror_mode": {
    "name": "ipython",
    "version": 3
   },
   "file_extension": ".py",
   "mimetype": "text/x-python",
   "name": "python",
   "nbconvert_exporter": "python",
   "pygments_lexer": "ipython3",
   "version": "3.12.4"
  }
 },
 "nbformat": 4,
 "nbformat_minor": 2
}
