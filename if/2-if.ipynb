{
 "cells": [
  {
   "cell_type": "code",
   "execution_count": 1,
   "metadata": {},
   "outputs": [],
   "source": [
    "if 2 > 5:\n",
    "    print(\"我好棒\")"
   ]
  },
  {
   "cell_type": "code",
   "execution_count": 2,
   "metadata": {},
   "outputs": [
    {
     "name": "stdout",
     "output_type": "stream",
     "text": [
      "我好棒\n"
     ]
    }
   ],
   "source": [
    "if 3 == 3 or 5 > 6:\n",
    "    print(\"我好棒\")"
   ]
  },
  {
   "cell_type": "code",
   "execution_count": 3,
   "metadata": {},
   "outputs": [],
   "source": [
    "if 3 == 3 and 5 > 6:\n",
    "    print(\"我好棒\")"
   ]
  },
  {
   "cell_type": "code",
   "execution_count": 4,
   "metadata": {},
   "outputs": [
    {
     "name": "stdout",
     "output_type": "stream",
     "text": [
      "我好爛\n"
     ]
    }
   ],
   "source": [
    "if 3 == 3 and 5 > 6:\n",
    "    print(\"我好棒\")\n",
    "else:\n",
    "    print(\"我好爛\")"
   ]
  },
  {
   "cell_type": "code",
   "execution_count": 5,
   "metadata": {},
   "outputs": [
    {
     "name": "stdout",
     "output_type": "stream",
     "text": [
      "我還不錯\n"
     ]
    }
   ],
   "source": [
    "if 3 == 3 and 5 > 6:\n",
    "    print(\"我好棒\")\n",
    "elif 2 < 3:\n",
    "    print(\"我還不錯\")"
   ]
  },
  {
   "cell_type": "code",
   "execution_count": 6,
   "metadata": {},
   "outputs": [
    {
     "name": "stdout",
     "output_type": "stream",
     "text": [
      "我還不錯\n"
     ]
    }
   ],
   "source": [
    "if 3 == 3 and 5 > 6:\n",
    "    print(\"我好棒\")\n",
    "elif 2 < 3:\n",
    "    print(\"我還不錯\")\n",
    "else:\n",
    "    print(\"我好爛\")"
   ]
  }
 ],
 "metadata": {
  "kernelspec": {
   "display_name": "Python 3",
   "language": "python",
   "name": "python3"
  },
  "language_info": {
   "codemirror_mode": {
    "name": "ipython",
    "version": 3
   },
   "file_extension": ".py",
   "mimetype": "text/x-python",
   "name": "python",
   "nbconvert_exporter": "python",
   "pygments_lexer": "ipython3",
   "version": "3.12.4"
  }
 },
 "nbformat": 4,
 "nbformat_minor": 2
}
