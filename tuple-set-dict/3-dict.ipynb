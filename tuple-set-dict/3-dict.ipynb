{
 "cells": [
  {
   "cell_type": "code",
   "execution_count": 1,
   "metadata": {},
   "outputs": [
    {
     "name": "stdout",
     "output_type": "stream",
     "text": [
      "{1: 'a', 2: 'b', 3: 'c'}\n"
     ]
    }
   ],
   "source": [
    "a = {1 : \"a\", 2 : \"b\", 3 : \"c\"}\n",
    "print(a)"
   ]
  },
  {
   "cell_type": "code",
   "execution_count": 6,
   "metadata": {},
   "outputs": [
    {
     "name": "stdout",
     "output_type": "stream",
     "text": [
      "{4: 'a', 2.05: 5, True: 3, 'hi': False}\n"
     ]
    }
   ],
   "source": [
    "b = {4 : \"a\", 2.05 : 5, True : 3, \"hi\" : False}\n",
    "print(b)"
   ]
  },
  {
   "cell_type": "code",
   "execution_count": 9,
   "metadata": {},
   "outputs": [
    {
     "name": "stdout",
     "output_type": "stream",
     "text": [
      "5\n",
      "False\n"
     ]
    }
   ],
   "source": [
    "print(b[2.05])\n",
    "print(b[\"hi\"])"
   ]
  },
  {
   "cell_type": "code",
   "execution_count": 12,
   "metadata": {},
   "outputs": [
    {
     "name": "stdout",
     "output_type": "stream",
     "text": [
      "[4, 2.05, True, 'hi']\n",
      "['a', 5, 3, False]\n"
     ]
    }
   ],
   "source": [
    "print(list(b.keys()))\n",
    "print(list(b.values()))"
   ]
  },
  {
   "cell_type": "code",
   "execution_count": 13,
   "metadata": {},
   "outputs": [
    {
     "name": "stdout",
     "output_type": "stream",
     "text": [
      "{4: 'a', 2.05: 5, True: False, 'hi': False}\n"
     ]
    }
   ],
   "source": [
    "b[True] = False\n",
    "print(b)"
   ]
  },
  {
   "cell_type": "code",
   "execution_count": 14,
   "metadata": {},
   "outputs": [
    {
     "name": "stdout",
     "output_type": "stream",
     "text": [
      "{4: 'a', 2.05: 5, True: False, 'hi': False, 'apples': 80}\n"
     ]
    }
   ],
   "source": [
    "b[\"apples\"] = 80\n",
    "print(b)"
   ]
  },
  {
   "cell_type": "code",
   "execution_count": 15,
   "metadata": {},
   "outputs": [
    {
     "name": "stdout",
     "output_type": "stream",
     "text": [
      "[{1, 2, 3}, (4, 5, {6: 'abc', 7: 'def'}, [8, 9, 10])]\n"
     ]
    }
   ],
   "source": [
    "x = [{1, 2, 3}, (4, 5, {6 : \"abc\", 7 : \"def\"}, [8, 9, 10])]\n",
    "print(x)"
   ]
  }
 ],
 "metadata": {
  "kernelspec": {
   "display_name": "Python 3",
   "language": "python",
   "name": "python3"
  },
  "language_info": {
   "codemirror_mode": {
    "name": "ipython",
    "version": 3
   },
   "file_extension": ".py",
   "mimetype": "text/x-python",
   "name": "python",
   "nbconvert_exporter": "python",
   "pygments_lexer": "ipython3",
   "version": "3.12.4"
  }
 },
 "nbformat": 4,
 "nbformat_minor": 2
}
