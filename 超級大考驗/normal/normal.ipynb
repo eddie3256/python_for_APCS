{
 "cells": [
  {
   "cell_type": "code",
   "execution_count": 9,
   "metadata": {},
   "outputs": [
    {
     "name": "stdout",
     "output_type": "stream",
     "text": [
      "8不是3和5的倍數\n"
     ]
    }
   ],
   "source": [
    "a = int(input())\n",
    "if a % 3 == 0:\n",
    "    if a % 5 == 0:\n",
    "        print(f\"{a}同時為3和5的倍數\")\n",
    "    else:\n",
    "        print(f\"{a}為3的倍數\")\n",
    "else:\n",
    "    print(f\"{a}不是3和5的倍數\") #1\n"
   ]
  },
  {
   "cell_type": "code",
   "execution_count": 1,
   "metadata": {},
   "outputs": [
    {
     "name": "stdout",
     "output_type": "stream",
     "text": [
      "True和abc皆是3的倍數\n"
     ]
    }
   ],
   "source": [
    "a = True\n",
    "b = \"abc\"\n",
    "print(f\"{a}和{b}皆是3的倍數\") #2"
   ]
  },
  {
   "cell_type": "code",
   "execution_count": 22,
   "metadata": {},
   "outputs": [
    {
     "name": "stdout",
     "output_type": "stream",
     "text": [
      "['9', '8', '7', '6', '5', '4', '3', '2', '1']\n"
     ]
    }
   ],
   "source": [
    "a = input().split()\n",
    "\n",
    "for i in range(len(a)):\n",
    "    for j in range(i):\n",
    "        if int(a[i]) > int(a[j]):\n",
    "            a[i], a[j] = a[j], a[i]\n",
    "\n",
    "print(a) #3"
   ]
  },
  {
   "cell_type": "code",
   "execution_count": 1,
   "metadata": {},
   "outputs": [
    {
     "name": "stdout",
     "output_type": "stream",
     "text": [
      "[100.0, 94.87, 89.44, 83.67, 77.46, 74.25, 66.41, 57.51, 46.96, 33.2]\n"
     ]
    }
   ],
   "source": [
    "score = list(map(int, input().split()))\n",
    "num_up_60 = list(filter(lambda x: x >= 60, score))\n",
    "num_not_60 = list(filter(lambda x: x < 60, score))\n",
    "\n",
    "score_2 = []\n",
    "\n",
    "for i in num_up_60:\n",
    "    score_2.append(round(i ** (1/2) * 10, 2))\n",
    "for j in num_not_60:\n",
    "    score_2.append(round(75 if j ** (1/2) * 10.5 > 75 else j ** (1/2) * 10.5, 2))\n",
    "\n",
    "print(score_2) #4"
   ]
  },
  {
   "cell_type": "code",
   "execution_count": 2,
   "metadata": {},
   "outputs": [
    {
     "name": "stdout",
     "output_type": "stream",
     "text": [
      "恭喜你獲得了 ['銘謝惠顧'] !!!\n",
      "有緣再見~\n",
      "應用程式結束\n"
     ]
    }
   ],
   "source": [
    "import random\n",
    "while True:\n",
    "    x = input(\"是否要抽獎?是請打yes, 否請打no\")\n",
    "    if x.lower() == \"yes\":\n",
    "        c = [\"大獎\", \"二獎\", \"二獎\", \"小獎\", \"小獎\", \"小獎\", \"銘謝惠顧\", \"銘謝惠顧\", \"銘謝惠顧\", \"銘謝惠顧\"]\n",
    "        award = random.choices(c, k = 1)\n",
    "        print(f\"恭喜你獲得了 {award} !!!\")\n",
    "    elif x.upper() == \"NO\":\n",
    "        print(\"有緣再見~\")\n",
    "        break\n",
    "    else:\n",
    "        print(\"請重新輸入\")\n",
    "\n",
    "print(\"應用程式結束\") #5"
   ]
  },
  {
   "cell_type": "code",
   "execution_count": 5,
   "metadata": {},
   "outputs": [
    {
     "data": {
      "text/plain": [
       "[9, 8, 7, 6, 5, 4, 3, 2, 1]"
      ]
     },
     "execution_count": 5,
     "metadata": {},
     "output_type": "execute_result"
    }
   ],
   "source": [
    "a = [1, 3, 5, 7, 9, 2, 4, 6, 8]\n",
    "a = sorted(a, reverse=True)\n",
    "a"
   ]
  },
  {
   "cell_type": "code",
   "execution_count": 31,
   "metadata": {},
   "outputs": [
    {
     "data": {
      "text/plain": [
       "[17.321, 24.495, 30.0]"
      ]
     },
     "execution_count": 31,
     "metadata": {},
     "output_type": "execute_result"
    }
   ],
   "source": [
    "a = list(map(lambda x: round((int(x) * 300) ** (1/2), 3), input().split(\",\")))\n",
    "a"
   ]
  },
  {
   "cell_type": "code",
   "execution_count": 3,
   "metadata": {},
   "outputs": [
    {
     "name": "stdout",
     "output_type": "stream",
     "text": [
      "<built-in method sort of list object at 0x000002DA7F3A4D40>\n",
      "6\n"
     ]
    }
   ],
   "source": [
    "print([2, 5, 1, 4, 3].sort)\n",
    "print(sum([1, 2, 3]))"
   ]
  },
  {
   "cell_type": "code",
   "execution_count": 4,
   "metadata": {},
   "outputs": [
    {
     "data": {
      "text/plain": [
       "4"
      ]
     },
     "execution_count": 4,
     "metadata": {},
     "output_type": "execute_result"
    }
   ],
   "source": [
    "2 if 4 < 3 else 4"
   ]
  },
  {
   "cell_type": "code",
   "execution_count": 11,
   "metadata": {},
   "outputs": [
    {
     "data": {
      "text/plain": [
       "'12345678'"
      ]
     },
     "execution_count": 11,
     "metadata": {},
     "output_type": "execute_result"
    }
   ],
   "source": [
    "a = f\"{123}45{678}\"\n",
    "a"
   ]
  },
  {
   "cell_type": "code",
   "execution_count": null,
   "metadata": {},
   "outputs": [],
   "source": []
  },
  {
   "cell_type": "code",
   "execution_count": 13,
   "metadata": {},
   "outputs": [
    {
     "name": "stdout",
     "output_type": "stream",
     "text": [
      "<__main__.meow object at 0x000002A04943EC90>\n"
     ]
    }
   ],
   "source": [
    "class meow():\n",
    "    def __init__(self, a, b):\n",
    "        self.a = a\n",
    "        self.b = b\n",
    "    def __repr__(self):\n",
    "        return f\"{self.a} + {self.b}\"\n",
    "\n",
    "meow = meow(1, 2)\n",
    "print(meow)"
   ]
  }
 ],
 "metadata": {
  "kernelspec": {
   "display_name": "Python 3",
   "language": "python",
   "name": "python3"
  },
  "language_info": {
   "codemirror_mode": {
    "name": "ipython",
    "version": 3
   },
   "file_extension": ".py",
   "mimetype": "text/x-python",
   "name": "python",
   "nbconvert_exporter": "python",
   "pygments_lexer": "ipython3",
   "version": "3.12.4"
  }
 },
 "nbformat": 4,
 "nbformat_minor": 2
}
