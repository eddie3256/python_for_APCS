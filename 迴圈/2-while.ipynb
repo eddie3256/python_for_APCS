{
 "cells": [
  {
   "cell_type": "code",
   "execution_count": 3,
   "metadata": {},
   "outputs": [
    {
     "name": "stdout",
     "output_type": "stream",
     "text": [
      "5\n"
     ]
    }
   ],
   "source": [
    "a = 1\n",
    "\n",
    "while a < 5:\n",
    "    a += 1\n",
    "\n",
    "print(a)"
   ]
  },
  {
   "cell_type": "code",
   "execution_count": 6,
   "metadata": {},
   "outputs": [
    {
     "name": "stdout",
     "output_type": "stream",
     "text": [
      "出錯了\n",
      "10.0\n",
      "程式結束\n"
     ]
    }
   ],
   "source": [
    "while True:\n",
    "    try:\n",
    "        num = float(input())\n",
    "        print(num)\n",
    "        break\n",
    "    except:\n",
    "        print(\"出錯了\")\n",
    "print(\"程式結束\")"
   ]
  },
  {
   "cell_type": "code",
   "execution_count": 7,
   "metadata": {},
   "outputs": [
    {
     "name": "stdout",
     "output_type": "stream",
     "text": [
      "請重新輸入1~100的數字\n",
      "20.0\n",
      "程式結束\n"
     ]
    }
   ],
   "source": [
    "while True:\n",
    "    try:\n",
    "        num = float(input())\n",
    "        if num > 100 or num < 0:\n",
    "            print(\"請重新輸入1~100的數字\")\n",
    "            continue\n",
    "        print(num)\n",
    "        break\n",
    "    except:\n",
    "        print(\"出錯了\")\n",
    "print(\"程式結束\")"
   ]
  },
  {
   "cell_type": "code",
   "execution_count": 10,
   "metadata": {},
   "outputs": [
    {
     "name": "stdout",
     "output_type": "stream",
     "text": [
      "請重新輸入1~100的數字\n",
      "請重新輸入1~100的數字\n",
      "請重新輸入1~100的數字\n",
      "50.0\n",
      "程式結束\n"
     ]
    }
   ],
   "source": [
    "while True:\n",
    "    try:\n",
    "        num = float(input())\n",
    "        if num > 100 or num < 0:\n",
    "            raise Exception\n",
    "        print(num)\n",
    "        break\n",
    "    except:\n",
    "        print(\"請重新輸入1~100的數字\")\n",
    "print(\"程式結束\")"
   ]
  }
 ],
 "metadata": {
  "kernelspec": {
   "display_name": "Python 3",
   "language": "python",
   "name": "python3"
  },
  "language_info": {
   "codemirror_mode": {
    "name": "ipython",
    "version": 3
   },
   "file_extension": ".py",
   "mimetype": "text/x-python",
   "name": "python",
   "nbconvert_exporter": "python",
   "pygments_lexer": "ipython3",
   "version": "3.12.4"
  }
 },
 "nbformat": 4,
 "nbformat_minor": 2
}
